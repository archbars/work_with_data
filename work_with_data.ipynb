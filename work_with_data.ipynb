{
 "cells": [
  {
   "cell_type": "code",
   "execution_count": 1,
   "metadata": {},
   "outputs": [],
   "source": [
    "import pandas as pd\n",
    "import os"
   ]
  },
  {
   "cell_type": "code",
   "execution_count": 2,
   "metadata": {},
   "outputs": [],
   "source": [
    "path_to_folder_name = 'E:\\handmade\\PyCharm\\work_with_data\\\\names'"
   ]
  },
  {
   "cell_type": "code",
   "execution_count": 3,
   "metadata": {},
   "outputs": [],
   "source": [
    "def find_file(year):\n",
    "    all_names_list = []\n",
    "    for d, dirs, files in os.walk(path_to_folder_name):\n",
    "        for file in files:\n",
    "            if file.find(str(year)) > -1:\n",
    "                with open(os.path.join(d, file), 'r') as current_year_file:\n",
    "                    for i in current_year_file:\n",
    "                        all_names_list.append(i.strip('\\n').split(','))\n",
    "    if len(all_names_list) > 0:\n",
    "        return all_names_list\n",
    "    else:\n",
    "        print('Введены неверные данные (год)')\n",
    "        exit(1)"
   ]
  },
  {
   "cell_type": "code",
   "execution_count": 8,
   "metadata": {},
   "outputs": [],
   "source": [
    "def input_value():\n",
    "    while True:\n",
    "        print()\n",
    "        str_for_import = input(\"Введите года через запятую \").split(',')\n",
    "        print()\n",
    "        print(\"Выберите дальнейшее дествие:\")\n",
    "        print(\"1 Топ 3 имен за выбранные года\")\n",
    "        print(\"2 Динамика количества в разрезе полов\")\n",
    "        print(\"3 Выход\")\n",
    "        print()\n",
    "        your_choice = input(\"Ваш выбор - \")\n",
    "        print()\n",
    "        if your_choice == \"1\":\n",
    "            count_top3(str_for_import)\n",
    "        elif your_choice == \"2\":\n",
    "            count_dynamics(str_for_import)\n",
    "        elif your_choice == \"3\":\n",
    "            break\n",
    "        else:\n",
    "            print(\"Введено некорректное значение\")\n",
    "            print()"
   ]
  },
  {
   "cell_type": "code",
   "execution_count": 9,
   "metadata": {},
   "outputs": [],
   "source": [
    "def count_top3(str_for_import):\n",
    "    list_for_input = []\n",
    "    for year in str_for_import:\n",
    "        list_for_input += find_file(year)\n",
    "    labels = ['name', 'gender', 'count']\n",
    "    df = pd.DataFrame(list_for_input, columns=labels)\n",
    "    df['count'] = df['count'].astype('int64')\n",
    "    print(df.sort_values(by=['count'], ascending=False).head(3))"
   ]
  },
  {
   "cell_type": "code",
   "execution_count": 10,
   "metadata": {},
   "outputs": [],
   "source": [
    "def count_dynamics(str_for_import):\n",
    "    gender_m_list = []\n",
    "    gender_f_list = []\n",
    "    for year in str_for_import:\n",
    "        list_for_input = find_file(year)\n",
    "        labels = ['name', 'gender', 'count']\n",
    "        df = pd.DataFrame(list_for_input, columns=labels)\n",
    "        gender_f_list.append(len(df[df['gender'] == 'F']))\n",
    "        gender_m_list.append(len(df[df['gender'] == 'M']))\n",
    "    print({'F': gender_f_list, 'M': gender_m_list})"
   ]
  },
  {
   "cell_type": "code",
   "execution_count": null,
   "metadata": {},
   "outputs": [
    {
     "name": "stdout",
     "output_type": "stream",
     "text": [
      "\n",
      "Введите года через запятую 2011,2012\n",
      "\n",
      "Выберите дальнейшее дествие:\n",
      "1 Топ 3 имен за выбранные года\n",
      "2 Динамика количества в разрезе полов\n",
      "3 - Выход\n",
      "\n",
      "Ваш выбор - 2\n",
      "\n",
      "{'F': [19560, 19498], 'M': [14343, 14234]}\n",
      "\n"
     ]
    }
   ],
   "source": [
    "input_value()"
   ]
  },
  {
   "cell_type": "code",
   "execution_count": null,
   "metadata": {},
   "outputs": [],
   "source": []
  },
  {
   "cell_type": "code",
   "execution_count": null,
   "metadata": {},
   "outputs": [],
   "source": []
  }
 ],
 "metadata": {
  "kernelspec": {
   "display_name": "Python 3",
   "language": "python",
   "name": "python3"
  },
  "language_info": {
   "codemirror_mode": {
    "name": "ipython",
    "version": 3
   },
   "file_extension": ".py",
   "mimetype": "text/x-python",
   "name": "python",
   "nbconvert_exporter": "python",
   "pygments_lexer": "ipython3",
   "version": "3.6.5"
  }
 },
 "nbformat": 4,
 "nbformat_minor": 2
}
