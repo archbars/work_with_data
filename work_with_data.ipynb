{
 "cells": [
  {
   "cell_type": "code",
   "execution_count": 1,
   "metadata": {},
   "outputs": [],
   "source": [
    "import pandas as pd\n",
    "import os"
   ]
  },
  {
   "cell_type": "code",
   "execution_count": 2,
   "metadata": {},
   "outputs": [],
   "source": [
    "path_to_folder_name = 'E:\\handmade\\PyCharm\\work_with_data\\\\names'"
   ]
  },
  {
   "cell_type": "code",
   "execution_count": 3,
   "metadata": {},
   "outputs": [],
   "source": [
    "def get_name_list_from_file(year):\n",
    "    all_names_list = []\n",
    "    for file in os.listdir(path_to_folder_name):\n",
    "        if file.find(str(year)) > -1:\n",
    "            with open(os.path.join(path_to_folder_name, file), 'r') as current_year_file:\n",
    "                for i in current_year_file:\n",
    "                    all_names_list.append(i.strip('\\n').split(','))\n",
    "    if len(all_names_list) > 0:\n",
    "        return all_names_list\n",
    "    else:\n",
    "        print('Введены неверные данные (год)')\n",
    "        exit(1)"
   ]
  },
  {
   "cell_type": "code",
   "execution_count": 4,
   "metadata": {},
   "outputs": [],
   "source": [
    "def count_top3(str_for_import):\n",
    "    result_dict = {}\n",
    "    for year in str_for_import:\n",
    "        for name in get_name_list_from_file(year):\n",
    "            if result_dict.get(name[0]) is None:\n",
    "                result_dict[name[0]] = [int(name[2])]\n",
    "            else:\n",
    "                old_value = result_dict.get(name[0])\n",
    "                result_dict[name[0]] = [int(name[2]) + old_value[0]]\n",
    "    df = pd.DataFrame.from_dict(result_dict, orient='index', columns=['count'])\n",
    "    df['count'] = df['count'].astype('int64')\n",
    "    print(df.sort_values(by=['count'], ascending=False).head(3))"
   ]
  },
  {
   "cell_type": "code",
   "execution_count": 5,
   "metadata": {},
   "outputs": [],
   "source": [
    "def count_dynamics(str_for_import):\n",
    "    gender_m_list = []\n",
    "    gender_f_list = []\n",
    "    for year in str_for_import:\n",
    "        list_for_input = get_name_list_from_file(year)\n",
    "        labels = ['name', 'gender', 'count']\n",
    "        df = pd.DataFrame(list_for_input, columns=labels)\n",
    "        df['count'] = df['count'].astype('int64')\n",
    "        gender_f_list.append(df[df['gender'] == 'F']['count'].sum())\n",
    "        gender_m_list.append(df[df['gender'] == 'M']['count'].sum())\n",
    "    print({'F': gender_f_list, 'M': gender_m_list})"
   ]
  },
  {
   "cell_type": "code",
   "execution_count": 6,
   "metadata": {},
   "outputs": [],
   "source": [
    "def input_years():\n",
    "    print()\n",
    "    str_for_import = input(\"Введите года через запятую \").split(',')\n",
    "    return str_for_import\n"
   ]
  },
  {
   "cell_type": "code",
   "execution_count": 7,
   "metadata": {},
   "outputs": [],
   "source": [
    "def check_input_value():\n",
    "    your_choice = input(\"Ваш выбор - \")\n",
    "    print()\n",
    "    if your_choice == \"1\":\n",
    "        count_top3(str_for_import)\n",
    "    elif your_choice == \"2\":\n",
    "        count_dynamics(str_for_import)\n",
    "    elif your_choice == \"3\":\n",
    "        pass\n",
    "    else:\n",
    "        print(\"Введено некорректное значение\")\n",
    "        print()"
   ]
  },
  {
   "cell_type": "code",
   "execution_count": 8,
   "metadata": {},
   "outputs": [],
   "source": [
    "def print_menu_dict(dict_for_menu):\n",
    "    print()\n",
    "    print(\"Выберите дальнейшее дествие:\")\n",
    "    for key in dict_for_menu.keys():\n",
    "        print(key, dict_for_menu.get(key)[0])\n",
    "    print()"
   ]
  },
  {
   "cell_type": "code",
   "execution_count": 9,
   "metadata": {},
   "outputs": [],
   "source": [
    "def main():\n",
    "    while True:\n",
    "        dict_for_menu = {1: [\"Топ 3 имен за выбранные года\", count_top3], 2: [\"Динамика количества в разрезе полов\",\n",
    "                                                                              count_dynamics], 3: [\"Выход\", exit]}\n",
    "        years = input_years()\n",
    "        print_menu_dict(dict_for_menu)\n",
    "        choice = int(input(\"Ваш выбор - \"))\n",
    "        if dict_for_menu.get(choice) is not None:\n",
    "            dict_for_menu.get(choice)[1](years)\n",
    "        else:\n",
    "            print(\"Введено неверноне значение.\")"
   ]
  },
  {
   "cell_type": "code",
   "execution_count": null,
   "metadata": {},
   "outputs": [
    {
     "name": "stdout",
     "output_type": "stream",
     "text": [
      "\n",
      "Введите года через запятую 1900,1950,2000\n",
      "\n",
      "Выберите дальнейшее дествие:\n",
      "1 Топ 3 имен за выбранные года\n",
      "2 Динамика количества в разрезе полов\n",
      "3 Выход\n",
      "\n",
      "Ваш выбор - 1\n",
      "         count\n",
      "James   111798\n",
      "John    109593\n",
      "Robert  101373\n",
      "\n"
     ]
    }
   ],
   "source": [
    "main()\n"
   ]
  },
  {
   "cell_type": "code",
   "execution_count": null,
   "metadata": {},
   "outputs": [],
   "source": []
  },
  {
   "cell_type": "code",
   "execution_count": null,
   "metadata": {},
   "outputs": [],
   "source": []
  },
  {
   "cell_type": "code",
   "execution_count": null,
   "metadata": {},
   "outputs": [],
   "source": []
  },
  {
   "cell_type": "code",
   "execution_count": null,
   "metadata": {},
   "outputs": [],
   "source": []
  }
 ],
 "metadata": {
  "kernelspec": {
   "display_name": "Python 3",
   "language": "python",
   "name": "python3"
  },
  "language_info": {
   "codemirror_mode": {
    "name": "ipython",
    "version": 3
   },
   "file_extension": ".py",
   "mimetype": "text/x-python",
   "name": "python",
   "nbconvert_exporter": "python",
   "pygments_lexer": "ipython3",
   "version": "3.6.5"
  }
 },
 "nbformat": 4,
 "nbformat_minor": 2
}
